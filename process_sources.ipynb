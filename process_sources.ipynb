{
 "cells": [
  {
   "cell_type": "code",
   "execution_count": 7,
   "metadata": {},
   "outputs": [],
   "source": [
    "import os\n",
    "import re"
   ]
  },
  {
   "cell_type": "markdown",
   "metadata": {},
   "source": [
    "We want to load all source files in, so we can have as many unique words to practice on.\n",
    "\n",
    "The sources used are listed below, with links to where they were acquired.\n",
    "- [dwyl_english_words.txt](https://github.com/dwyl/english-words/blob/master/words.txt)"
   ]
  },
  {
   "cell_type": "code",
   "execution_count": 18,
   "metadata": {},
   "outputs": [],
   "source": [
    "source_path = './source/'\n",
    "source_files = []\n",
    "\n",
    "output_path = './subsets/'\n",
    "\n",
    "for file_name in os.listdir(source_path):\n",
    "    with open(source_path+file_name,\"r\") as f:\n",
    "        source_files.append(f.readlines())"
   ]
  },
  {
   "cell_type": "markdown",
   "metadata": {},
   "source": [
    "Create a general word bank without any punctuation or digits, to be used for consequent generation of subsets."
   ]
  },
  {
   "cell_type": "code",
   "execution_count": 19,
   "metadata": {},
   "outputs": [],
   "source": [
    "non_numeric = re.compile(\"^[A-Za-z]+$\")\n",
    "\n",
    "word_bank = set()\n",
    "\n",
    "for source in source_files:\n",
    "    for word in source:\n",
    "        if non_numeric.match(word):\n",
    "            word_bank.add(word.lower())\n",
    "\n",
    "with open(output_path+'words_english.txt','w') as f:\n",
    "    f.writelines(word_bank)"
   ]
  },
  {
   "cell_type": "markdown",
   "metadata": {},
   "source": [
    "With this code, we generate two word banks: one that targets the left hand, and one that targets the right hand.\n",
    "While practicing with these word banks, I immediately noticed that my right hand is significantly less efficient at typing. My WPM on the left hand word bank is at roughly 70-80, whereas my WPM on the right hand word bank lies between 30 and 50."
   ]
  },
  {
   "cell_type": "code",
   "execution_count": 30,
   "metadata": {},
   "outputs": [],
   "source": [
    "left_hand_qwerty = re.compile(\"^[qwertasdfgzxcvb]{5,}$\")\n",
    "right_hand_qwerty = re.compile(\"^[yuiophjklnm]{5,}$\")\n",
    "\n",
    "def create_subset_from_regex(name, regex_patt: re.Pattern):\n",
    "    words = [word for word in word_bank if regex_patt.match(word)]\n",
    "    with open(output_path+name+'.txt','w') as f:\n",
    "        f.writelines(words)\n",
    "\n",
    "create_subset_from_regex('lh_qwerty_english',left_hand_qwerty)\n",
    "create_subset_from_regex('rh_qwerty_english',right_hand_qwerty)"
   ]
  },
  {
   "cell_type": "markdown",
   "metadata": {},
   "source": [
    "Our right hand word bank has significantly fewer words than our left hand word bank, due to QWERTY layout. To add some variation and practice aligning my keypresses between the left and right hand, I add the rightmost row on the left hand: t, g, and b."
   ]
  },
  {
   "cell_type": "code",
   "execution_count": 33,
   "metadata": {},
   "outputs": [],
   "source": [
    "# right hand + left index\n",
    "rhplus_qwerty = [re.compile(\"^[yuiophjklnmtgb]{5,}$\"),re.compile(\"[tgb]+\")]\n",
    "with open(output_path+\"rhplus_qwerty_english.txt\",\"w\") as f:\n",
    "    f.writelines([word for word in word_bank if rhplus_qwerty[0].match(word) and rhplus_qwerty[1].match(word)])"
   ]
  }
 ],
 "metadata": {
  "kernelspec": {
   "display_name": "Python 3",
   "language": "python",
   "name": "python3"
  },
  "language_info": {
   "codemirror_mode": {
    "name": "ipython",
    "version": 3
   },
   "file_extension": ".py",
   "mimetype": "text/x-python",
   "name": "python",
   "nbconvert_exporter": "python",
   "pygments_lexer": "ipython3",
   "version": "3.11.4"
  }
 },
 "nbformat": 4,
 "nbformat_minor": 2
}
