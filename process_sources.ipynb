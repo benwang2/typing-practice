{
 "cells": [
  {
   "cell_type": "code",
   "execution_count": 2,
   "metadata": {},
   "outputs": [],
   "source": [
    "import os\n",
    "import re\n",
    "\n",
    "left_hand = 'qwertasdfgzxcvb'\n",
    "right_hand = 'yuiophjklnm'"
   ]
  },
  {
   "cell_type": "markdown",
   "metadata": {},
   "source": [
    "We want to load all source files in, so we can have as many unique words to practice on.\n",
    "\n",
    "The sources used are listed below, with links to where they were acquired.\n",
    "- [dwyl_english_words.txt](https://github.com/dwyl/english-words/blob/master/words.txt)"
   ]
  },
  {
   "cell_type": "code",
   "execution_count": 3,
   "metadata": {},
   "outputs": [],
   "source": [
    "source_path = './source/'\n",
    "source_files = []\n",
    "\n",
    "output_path = './subsets/'\n",
    "\n",
    "for file_name in os.listdir(source_path):\n",
    "    with open(source_path+file_name,\"r\") as f:\n",
    "        source_files.append(f.readlines())"
   ]
  },
  {
   "cell_type": "markdown",
   "metadata": {},
   "source": [
    "Create a general word bank without any punctuation or digits, to be used for consequent generation of subsets."
   ]
  },
  {
   "cell_type": "code",
   "execution_count": 4,
   "metadata": {},
   "outputs": [],
   "source": [
    "non_numeric = re.compile(\"^[A-Za-z]+$\")\n",
    "\n",
    "word_bank = set()\n",
    "\n",
    "for source in source_files:\n",
    "    for word in source:\n",
    "        if non_numeric.match(word):\n",
    "            word_bank.add(word.lower())\n",
    "\n",
    "if not \"words_english.txt\" in os.listdir(output_path):\n",
    "    with open(output_path+'words_english.txt','w') as f:\n",
    "        f.writelines(word_bank)"
   ]
  },
  {
   "cell_type": "markdown",
   "metadata": {},
   "source": [
    "With this code, we generate two word banks: one that targets the left hand, and one that targets the right hand.\n",
    "While practicing with these word banks, I immediately noticed that my right hand is significantly less efficient at typing. My WPM on the left hand word bank is at roughly 70-80, whereas my WPM on the right hand word bank lies between 30 and 50."
   ]
  },
  {
   "cell_type": "code",
   "execution_count": 30,
   "metadata": {},
   "outputs": [],
   "source": [
    "left_hand_qwerty = re.compile(\"^[qwertasdfgzxcvb]{5,}$\")\n",
    "right_hand_qwerty = re.compile(\"^[yuiophjklnm]{5,}$\")\n",
    "\n",
    "def create_subset_from_regex(name, regex_patt: re.Pattern):\n",
    "    words = [word for word in word_bank if regex_patt.match(word)]\n",
    "    with open(output_path+name+'.txt','w') as f:\n",
    "        f.writelines(words)\n",
    "\n",
    "create_subset_from_regex('lh_qwerty_english',left_hand_qwerty)\n",
    "create_subset_from_regex('rh_qwerty_english',right_hand_qwerty)"
   ]
  },
  {
   "cell_type": "markdown",
   "metadata": {},
   "source": [
    "Our right hand word bank has significantly fewer words than our left hand word bank, due to QWERTY layout. To add some variation and practice timing my keypresses between the left and right hand, I add the rightmost row on the left hand: t, g, and b; this word bank is called rhplus."
   ]
  },
  {
   "cell_type": "code",
   "execution_count": 33,
   "metadata": {},
   "outputs": [],
   "source": [
    "# right hand + left index\n",
    "rhplus_qwerty = [re.compile(\"^[yuiophjklnmtgb]{5,}$\"),re.compile(\"[tgb]+\")]\n",
    "with open(output_path+\"rhplus_qwerty_english.txt\",\"w\") as f:\n",
    "    f.writelines([word for word in word_bank if rhplus_qwerty[0].match(word) and rhplus_qwerty[1].match(word)])"
   ]
  },
  {
   "cell_type": "markdown",
   "metadata": {},
   "source": [
    "Even with the previous methodology, I still feel like I don't get effective practice for my right hand typing. Therefore, I create some additional word banks for practicing with my right hand.\n",
    "\n",
    "To be specific, I create two additional word banks.\n",
    "The first word bank is composed of words that follow the rules below:\n",
    "- more letters should be from the right hand than the left hand\n",
    "- at least one sequence of characters from right hand of length 2 or greater"
   ]
  },
  {
   "cell_type": "code",
   "execution_count": 8,
   "metadata": {},
   "outputs": [],
   "source": [
    "rh_realistic_1 = []\n",
    "left_hand = 'qwertasdfgzxcvb'\n",
    "right_hand = 'yuiophjklnm'\n",
    "\n",
    "MIN_SEQ_LENGTH = 2\n",
    "RH_PERCENT = 0.5\n",
    "\n",
    "for word in word_bank:\n",
    "    lh = 0\n",
    "    rh = 0\n",
    "    seq = 0\n",
    "    last = 0\n",
    "    for char in word:\n",
    "        if char in left_hand:\n",
    "            lh += 1\n",
    "            last = 1\n",
    "        elif char in right_hand:\n",
    "            if last == 1:\n",
    "                seq += 1\n",
    "            else:\n",
    "                seq = 1\n",
    "            rh += 1\n",
    "            last = 1\n",
    "\n",
    "    if seq >= MIN_SEQ_LENGTH and (rh / len(word)) > RH_PERCENT:\n",
    "        rh_realistic_1.append(word)\n",
    "\n",
    "with open(output_path+\"rh_realistic_1_qwerty.txt\",\"w\") as f:\n",
    "    f.writelines(rh_realistic_1)"
   ]
  },
  {
   "cell_type": "markdown",
   "metadata": {},
   "source": [
    "To further increase the accuracy and coordination between my left and right hand, I created a word bank that contains words that are primarily right-handed, but have sequences that follow the pattern of LRL, or RLR."
   ]
  },
  {
   "cell_type": "code",
   "execution_count": 7,
   "metadata": {},
   "outputs": [],
   "source": [
    "rh_alternating = []\n",
    "\n",
    "alt_patt_lrl = re.compile(f\"[{left_hand}][{right_hand}][{left_hand}]\")\n",
    "alt_patt_rlr = re.compile(f\"[{right_hand}][{left_hand}][{right_hand}]\")\n",
    "\n",
    "MIN_PATT_OCC = 4\n",
    "RH_PERCENT = 0.5\n",
    "\n",
    "for word in word_bank:\n",
    "    lh = 0\n",
    "    rh = 0\n",
    "    patt_occ = 0\n",
    "    for char in word:\n",
    "        if char in left_hand:\n",
    "            lh += 1\n",
    "        elif char in right_hand:\n",
    "            rh += 1\n",
    "\n",
    "    patt_occ = len(alt_patt_lrl.findall(word)) + len(alt_patt_rlr.findall(word))\n",
    "\n",
    "    if patt_occ >= MIN_PATT_OCC and (rh / len(word)) > RH_PERCENT:\n",
    "        rh_alternating.append(word)\n",
    "\n",
    "with open(output_path+\"rh_alternating_qwerty.txt\",\"w\") as f:\n",
    "    f.writelines(rh_alternating)"
   ]
  },
  {
   "cell_type": "code",
   "execution_count": 21,
   "metadata": {},
   "outputs": [],
   "source": [
    "alt_patt_lrl_exclusive = re.compile(f\"^([{left_hand}][{right_hand}])+$\")\n",
    "alt_patt_rlr_exclusive = re.compile(f\"^([{right_hand}][{left_hand}])+$\")\n",
    "\n",
    "with open(output_path+\"alternating_qwerty.txt\",\"w\") as f:\n",
    "    f.writelines([word for word in word_bank if (alt_patt_rlr_exclusive.match(word) or alt_patt_lrl_exclusive.match(word)) and len(word) > 5])"
   ]
  },
  {
   "cell_type": "code",
   "execution_count": null,
   "metadata": {},
   "outputs": [],
   "source": []
  }
 ],
 "metadata": {
  "kernelspec": {
   "display_name": "Python 3",
   "language": "python",
   "name": "python3"
  },
  "language_info": {
   "codemirror_mode": {
    "name": "ipython",
    "version": 3
   },
   "file_extension": ".py",
   "mimetype": "text/x-python",
   "name": "python",
   "nbconvert_exporter": "python",
   "pygments_lexer": "ipython3",
   "version": "3.12.0"
  }
 },
 "nbformat": 4,
 "nbformat_minor": 2
}
